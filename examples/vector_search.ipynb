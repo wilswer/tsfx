{
 "cells": [
  {
   "cell_type": "markdown",
   "metadata": {},
   "source": [
    "# Vector Search Example Using Qdrant\n"
   ]
  },
  {
   "cell_type": "markdown",
   "metadata": {},
   "source": [
    "## Load some data\n"
   ]
  },
  {
   "cell_type": "code",
   "execution_count": null,
   "metadata": {},
   "outputs": [],
   "source": [
    "import polars as pl\n",
    "\n",
    "from tsfx import (\n",
    "    DynamicGroupBySettings,\n",
    "    ExtractionSettings,\n",
    "    FeatureSetting,\n",
    "    extract_features,\n",
    ")\n",
    "\n",
    "lf = pl.scan_csv(\"../test_data/all_stocks_5yr.csv\")\n",
    "lf = lf.drop_nulls()\n",
    "\n",
    "dyn_opts = DynamicGroupBySettings(\n",
    "    time_col=\"date\",\n",
    "    every=\"1y\",\n",
    "    period=\"1y\",\n",
    "    offset=\"0\",\n",
    "    datetime_format=\"%Y-%m-%d\",\n",
    ")\n",
    "\n",
    "opts = ExtractionSettings(\n",
    "    grouping_col=\"Name\",\n",
    "    value_cols=[\"close\"],\n",
    "    feature_setting=FeatureSetting.Efficient,\n",
    "    dynamic_settings=dyn_opts,\n",
    ")\n",
    "# Extract features\n",
    "gdf = extract_features(lf, opts)\n",
    "gdf = gdf.sort(by=[\"Name\"])\n",
    "\n",
    "gdf"
   ]
  },
  {
   "cell_type": "code",
   "execution_count": null,
   "metadata": {},
   "outputs": [],
   "source": [
    "# Standardize\n",
    "gdf = gdf.with_columns(\n",
    "    [\n",
    "        (pl.exclude([pl.Date, pl.Utf8]) - pl.exclude([pl.Date, pl.Utf8]).mean())\n",
    "        / pl.exclude([pl.Date, pl.Utf8]).std(),\n",
    "    ]\n",
    ")\n",
    "gdf = gdf.fill_nan(None)\n",
    "gdf = gdf[[s.name for s in gdf if s.null_count() < 1]]\n",
    "gdf"
   ]
  },
  {
   "cell_type": "markdown",
   "metadata": {},
   "source": [
    "## Extract raw features\n"
   ]
  },
  {
   "cell_type": "code",
   "execution_count": null,
   "metadata": {},
   "outputs": [],
   "source": [
    "data = gdf.select(pl.exclude([pl.Date, pl.Utf8])).to_numpy()\n",
    "names = gdf[\"Name\"].to_list()\n",
    "dates = gdf[\"date\"].to_list()\n",
    "data.shape"
   ]
  },
  {
   "cell_type": "markdown",
   "metadata": {},
   "source": [
    "## Set up Qdrant Client\n"
   ]
  },
  {
   "cell_type": "code",
   "execution_count": null,
   "metadata": {},
   "outputs": [],
   "source": [
    "from qdrant_client import QdrantClient\n",
    "\n",
    "client = QdrantClient(\":memory:\")"
   ]
  },
  {
   "cell_type": "markdown",
   "metadata": {},
   "source": [
    "## Create collection\n"
   ]
  },
  {
   "cell_type": "code",
   "execution_count": null,
   "metadata": {},
   "outputs": [],
   "source": [
    "from qdrant_client.http.models import Distance, VectorParams\n",
    "\n",
    "client.delete_collection(collection_name=\"test_collection\")\n",
    "\n",
    "client.create_collection(\n",
    "    collection_name=\"test_collection\",\n",
    "    vectors_config=VectorParams(size=data.shape[1], distance=Distance.COSINE),\n",
    ")"
   ]
  },
  {
   "cell_type": "markdown",
   "metadata": {},
   "source": [
    "## Add vectors to collection\n"
   ]
  },
  {
   "cell_type": "code",
   "execution_count": null,
   "metadata": {},
   "outputs": [],
   "source": [
    "from datetime import timedelta\n",
    "\n",
    "from qdrant_client.http.models import PointStruct\n",
    "\n",
    "operation_info = client.upsert(\n",
    "    collection_name=\"test_collection\",\n",
    "    wait=True,\n",
    "    points=[\n",
    "        PointStruct(\n",
    "            id=i,\n",
    "            vector=d.tolist(),\n",
    "            payload={\n",
    "                \"name\": name,\n",
    "                \"start_date\": date.strftime(\"%Y-%m-%d\"),\n",
    "                \"end_date\": (date + timedelta(days=365)).strftime(\"%Y-%m-%d\"),\n",
    "            },\n",
    "        )\n",
    "        for i, (d, name, date) in enumerate(zip(data, names, dates, strict=True))\n",
    "    ],\n",
    ")\n",
    "\n",
    "print(operation_info)"
   ]
  },
  {
   "cell_type": "markdown",
   "metadata": {},
   "source": [
    "## Query vectors\n"
   ]
  },
  {
   "cell_type": "code",
   "execution_count": null,
   "metadata": {},
   "outputs": [],
   "source": [
    "INDEX = 432\n",
    "K = 5\n",
    "search_result = client.search(\n",
    "    collection_name=\"test_collection\",\n",
    "    query_vector=data[INDEX, :].tolist(),\n",
    "    limit=K,\n",
    ")\n",
    "\n",
    "print(search_result)"
   ]
  },
  {
   "cell_type": "markdown",
   "metadata": {},
   "source": [
    "## Plot search results\n"
   ]
  },
  {
   "cell_type": "code",
   "execution_count": null,
   "metadata": {},
   "outputs": [],
   "source": [
    "import plotly.express as px\n",
    "\n",
    "dfs = []\n",
    "names = []\n",
    "for search_res in search_result:\n",
    "    id_ = search_res.id\n",
    "    name = search_res.payload[\"name\"]\n",
    "    start_date = search_res.payload[\"start_date\"]\n",
    "    end_date = search_res.payload[\"end_date\"]\n",
    "    print(id_, name, start_date, end_date)\n",
    "    dfs.append(\n",
    "        lf.filter(pl.col(\"Name\") == name)\n",
    "        .filter(pl.col(\"date\") > start_date)\n",
    "        .filter(pl.col(\"date\") < end_date)\n",
    "        .collect()\n",
    "    )\n",
    "    names.append(name)\n",
    "\n",
    "fig = px.line(x=dfs[0][\"date\"], y=dfs[0][\"close\"], title=\"Close price of \" + names[0])\n",
    "\n",
    "for df in dfs[1:]:\n",
    "    fig.add_scatter(\n",
    "        x=df[\"date\"],\n",
    "        y=df[\"close\"],\n",
    "        mode=\"lines\",\n",
    "        name=\"Close price of \" + df[\"Name\"][0],\n",
    "    )\n",
    "fig.show()"
   ]
  },
  {
   "cell_type": "markdown",
   "metadata": {},
   "source": [
    "## (Debug) Compare with exact Distance Matrix\n"
   ]
  },
  {
   "cell_type": "code",
   "execution_count": null,
   "metadata": {},
   "outputs": [],
   "source": [
    "import numpy as np\n",
    "import pandas as pd\n",
    "from numpy.linalg import norm\n",
    "\n",
    "distance_matrix = pd.DataFrame(\n",
    "    index=range(data.shape[0]),\n",
    "    columns=range(data.shape[0]),\n",
    ")\n",
    "X_df = pd.DataFrame(data, index=range(data.shape[0]), columns=range(data.shape[1]))\n",
    "for stock_id1 in X_df.index:\n",
    "    stock_features1 = X_df.loc[stock_id1].to_numpy()\n",
    "    for stock_id2 in X_df.index:\n",
    "        stock_features2 = X_df.loc[stock_id2].to_numpy()\n",
    "        distance_matrix.loc[stock_id1, stock_id2] = np.dot(\n",
    "            stock_features1, stock_features2\n",
    "        ) / (norm(stock_features1) * norm(stock_features2))\n",
    "\n",
    "distance_matrix = distance_matrix.astype(float)\n",
    "distance_matrix"
   ]
  },
  {
   "cell_type": "code",
   "execution_count": null,
   "metadata": {},
   "outputs": [],
   "source": [
    "dm = distance_matrix.to_numpy()\n",
    "x_ind, y_ind = np.unravel_index(np.argsort(dm, axis=None), dm.shape)\n",
    "index_pairs = list(zip(x_ind, y_ind, strict=True))\n",
    "index_pairs = [(x, y) for x, y in index_pairs if x < y]\n",
    "index_pairs = index_pairs[::-1]\n",
    "index_pairs[:10]"
   ]
  },
  {
   "cell_type": "markdown",
   "metadata": {},
   "source": [
    "## K-means clustering"
   ]
  },
  {
   "cell_type": "code",
   "execution_count": null,
   "metadata": {},
   "outputs": [],
   "source": [
    "import matplotlib.pyplot as plt\n",
    "from sklearn.cluster import KMeans\n",
    "\n",
    "ks = []\n",
    "inertias = []\n",
    "for k in range(2, 21):\n",
    "    kmeans = KMeans(n_clusters=k, random_state=0, n_init=\"auto\").fit(data)\n",
    "    print(k, kmeans.inertia_)\n",
    "    ks.append(k)\n",
    "    inertias.append(kmeans.inertia_)\n",
    "fig, ax = plt.subplots(dpi=300)\n",
    "ax.plot(ks, inertias)\n",
    "ax.set_xlabel(\"Number of clusters\")\n",
    "ax.set_ylabel(\"Inertia\")\n",
    "ax.xaxis.set_ticks(range(2, 21, 1))"
   ]
  },
  {
   "cell_type": "code",
   "execution_count": null,
   "metadata": {},
   "outputs": [],
   "source": [
    "kmeans = KMeans(n_clusters=8, random_state=0, n_init=\"auto\").fit(data)"
   ]
  }
 ],
 "metadata": {
  "kernelspec": {
   "display_name": "venv",
   "language": "python",
   "name": "python3"
  },
  "language_info": {
   "codemirror_mode": {
    "name": "ipython",
    "version": 3
   },
   "file_extension": ".py",
   "mimetype": "text/x-python",
   "name": "python",
   "nbconvert_exporter": "python",
   "pygments_lexer": "ipython3",
   "version": "3.11.7"
  }
 },
 "nbformat": 4,
 "nbformat_minor": 2
}
