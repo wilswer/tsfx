{
 "cells": [
  {
   "cell_type": "code",
   "execution_count": null,
   "metadata": {},
   "outputs": [],
   "source": [
    "import polars as pl\n",
    "\n",
    "from tsfx import (\n",
    "    DynamicGroupBySettings,\n",
    "    ExtractionSettings,\n",
    "    FeatureSetting,\n",
    "    extract_features,\n",
    ")\n",
    "\n",
    "lf = pl.scan_csv(\"../test_data/all_stocks_5yr.csv\")\n",
    "lf = lf.drop_nulls()\n",
    "\n",
    "dyn_opts = DynamicGroupBySettings(\n",
    "    time_col=\"date\",\n",
    "    every=\"1y\",\n",
    "    period=\"1y\",\n",
    "    offset=\"0\",\n",
    "    datetime_format=\"%Y-%m-%d\",\n",
    ")\n",
    "\n",
    "opts = ExtractionSettings(\n",
    "    grouping_col=\"Name\",\n",
    "    # value_cols=[\"open\", \"high\", \"low\", \"close\", \"volume\"],\n",
    "    value_cols=[\"close\"],\n",
    "    feature_setting=FeatureSetting.Efficient,\n",
    "    dynamic_settings=None,\n",
    ")\n",
    "gdf = extract_features(lf, opts)\n",
    "gdf = gdf.sort(by=[\"Name\"])\n",
    "gdf = gdf.with_columns(\n",
    "    [\n",
    "        (pl.exclude([pl.Date, pl.Utf8]) - pl.exclude([pl.Date, pl.Utf8]).mean())\n",
    "        / pl.exclude([pl.Date, pl.Utf8]).std(),\n",
    "    ]\n",
    ")\n",
    "gdf = gdf.fill_nan(None)\n",
    "gdf = gdf[[s.name for s in gdf if s.null_count() < 1]]\n",
    "gdf"
   ]
  },
  {
   "cell_type": "code",
   "execution_count": null,
   "metadata": {},
   "outputs": [],
   "source": [
    "data = gdf.select(pl.exclude([pl.Date, pl.Utf8])).to_numpy()\n",
    "names = gdf[\"Name\"].to_list()\n",
    "# ids = gdf.select(\n",
    "#     pl.concat_str([pl.col(\"Name\"), pl.lit(\"_\"), pl.col(\"date\")])\n",
    "# ).to_numpy()\n",
    "data.shape"
   ]
  },
  {
   "cell_type": "code",
   "execution_count": null,
   "metadata": {},
   "outputs": [],
   "source": [
    "from qdrant_client import QdrantClient\n",
    "\n",
    "client = QdrantClient(\":memory:\")"
   ]
  },
  {
   "cell_type": "code",
   "execution_count": null,
   "metadata": {},
   "outputs": [],
   "source": [
    "from qdrant_client.http.models import Distance, VectorParams\n",
    "\n",
    "client.delete_collection(collection_name=\"test_collection\")\n",
    "\n",
    "client.create_collection(\n",
    "    collection_name=\"test_collection\",\n",
    "    vectors_config=VectorParams(size=data.shape[1], distance=Distance.COSINE),\n",
    ")"
   ]
  },
  {
   "cell_type": "code",
   "execution_count": null,
   "metadata": {},
   "outputs": [],
   "source": [
    "from qdrant_client.http.models import PointStruct\n",
    "\n",
    "operation_info = client.upsert(\n",
    "    collection_name=\"test_collection\",\n",
    "    wait=True,\n",
    "    points=[\n",
    "        PointStruct(id=i, vector=d.tolist(), payload={\"name\": name})\n",
    "        for i, (d, name) in enumerate(zip(data, names, strict=True))\n",
    "    ],\n",
    ")\n",
    "\n",
    "print(operation_info)"
   ]
  },
  {
   "cell_type": "code",
   "execution_count": null,
   "metadata": {},
   "outputs": [],
   "source": [
    "INDEX = 138\n",
    "search_result = client.search(\n",
    "    collection_name=\"test_collection\", query_vector=data[INDEX, :].tolist(), limit=3\n",
    ")\n",
    "\n",
    "print(search_result)"
   ]
  },
  {
   "cell_type": "code",
   "execution_count": null,
   "metadata": {},
   "outputs": [],
   "source": [
    "import plotly.express as px\n",
    "\n",
    "name1 = search_result[0].payload[\"name\"]\n",
    "print(name1)\n",
    "\n",
    "name2 = search_result[1].payload[\"name\"]\n",
    "print(name2)\n",
    "\n",
    "name3 = search_result[2].payload[\"name\"]\n",
    "print(name3)\n",
    "\n",
    "df1 = lf.filter(pl.col(\"Name\") == name1).collect()\n",
    "fig = px.line(x=df1[\"date\"], y=df1[\"close\"])\n",
    "\n",
    "df2 = lf.filter(pl.col(\"Name\") == name2).collect()\n",
    "fig.add_scatter(x=df2[\"date\"], y=df2[\"close\"], mode=\"lines\")\n",
    "\n",
    "df3 = lf.filter(pl.col(\"Name\") == name3).collect()\n",
    "fig.add_scatter(x=df3[\"date\"], y=df3[\"close\"], mode=\"lines\")"
   ]
  },
  {
   "cell_type": "markdown",
   "metadata": {},
   "source": [
    "## Exact Distance Matrix\n"
   ]
  },
  {
   "cell_type": "code",
   "execution_count": null,
   "metadata": {},
   "outputs": [],
   "source": [
    "import numpy as np\n",
    "import pandas as pd\n",
    "from numpy.linalg import norm\n",
    "\n",
    "distance_matrix = pd.DataFrame(\n",
    "    index=range(data.shape[0]),\n",
    "    columns=range(data.shape[0]),\n",
    ")\n",
    "X_df = pd.DataFrame(data, index=range(data.shape[0]), columns=range(data.shape[1]))\n",
    "for stock_id1 in X_df.index:\n",
    "    stock_features1 = X_df.loc[stock_id1].to_numpy()\n",
    "    for stock_id2 in X_df.index:\n",
    "        stock_features2 = X_df.loc[stock_id2].to_numpy()\n",
    "        distance_matrix.loc[stock_id1, stock_id2] = np.dot(\n",
    "            stock_features1, stock_features2\n",
    "        ) / (norm(stock_features1) * norm(stock_features2))\n",
    "\n",
    "distance_matrix = distance_matrix.astype(float)\n",
    "distance_matrix"
   ]
  },
  {
   "cell_type": "code",
   "execution_count": null,
   "metadata": {},
   "outputs": [],
   "source": [
    "dm = distance_matrix.to_numpy()\n",
    "x_ind, y_ind = np.unravel_index(np.argsort(dm, axis=None), dm.shape)\n",
    "index_pairs = list(zip(x_ind, y_ind, strict=True))\n",
    "index_pairs = [(x, y) for x, y in index_pairs if x < y]\n",
    "index_pairs = index_pairs[::-1]\n",
    "index_pairs[:10]"
   ]
  }
 ],
 "metadata": {
  "kernelspec": {
   "display_name": "venv",
   "language": "python",
   "name": "python3"
  },
  "language_info": {
   "codemirror_mode": {
    "name": "ipython",
    "version": 3
   },
   "file_extension": ".py",
   "mimetype": "text/x-python",
   "name": "python",
   "nbconvert_exporter": "python",
   "pygments_lexer": "ipython3",
   "version": "3.11.6"
  }
 },
 "nbformat": 4,
 "nbformat_minor": 2
}
